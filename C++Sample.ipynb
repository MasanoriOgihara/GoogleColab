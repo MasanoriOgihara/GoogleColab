{
  "nbformat": 4,
  "nbformat_minor": 0,
  "metadata": {
    "colab": {
      "provenance": [],
      "authorship_tag": "ABX9TyNKqH8aDzTbquE9YVMmKN/l",
      "include_colab_link": true
    },
    "kernelspec": {
      "name": "python3",
      "display_name": "Python 3"
    },
    "language_info": {
      "name": "python"
    }
  },
  "cells": [
    {
      "cell_type": "markdown",
      "metadata": {
        "id": "view-in-github",
        "colab_type": "text"
      },
      "source": [
        "<a href=\"https://colab.research.google.com/github/MasanoriOgihara/GoogleColab/blob/main/C%2B%2BSample.ipynb\" target=\"_parent\"><img src=\"https://colab.research.google.com/assets/colab-badge.svg\" alt=\"Open In Colab\"/></a>"
      ]
    },
    {
      "cell_type": "code",
      "source": [
        "%%file forloop.cpp\n",
        "#include <iostream>\n",
        "using namespace std;\n",
        "\n",
        "int main(){\n",
        "    int N;\n",
        "    cin >> N;\n",
        "\n",
        "    int count = 0;\n",
        "    for (int i=0; i<N; i++)\n",
        "    {\n",
        "        for (int j=0; j<N; j++)\n",
        "        {\n",
        "            ++count;        \n",
        "        }\n",
        "    }\n",
        "    std::cout << \"The count is \" << count << std::endl;\n",
        "    return 0;\n",
        "}\n"
      ],
      "metadata": {
        "colab": {
          "base_uri": "https://localhost:8080/"
        },
        "id": "eRayMjipkv0b",
        "outputId": "ef63feb2-cfe4-4269-b903-c0061d9f5cd6"
      },
      "execution_count": 11,
      "outputs": [
        {
          "output_type": "stream",
          "name": "stdout",
          "text": [
            "Overwriting forloop.cpp\n"
          ]
        }
      ]
    },
    {
      "cell_type": "code",
      "execution_count": 9,
      "metadata": {
        "colab": {
          "base_uri": "https://localhost:8080/"
        },
        "id": "IkBVRWHyjw_L",
        "outputId": "91f561c7-f7e4-41a9-f166-37d1198967df"
      },
      "outputs": [
        {
          "output_type": "stream",
          "name": "stdout",
          "text": [
            "Overwriting hello.cpp\n"
          ]
        }
      ],
      "source": [
        "%%file hello.cpp\n",
        "\n",
        "#include <iostream>\n",
        "\n",
        "int main() {\n",
        "    std::cout << \"Hello, world!\" << std::endl;\n",
        "    return 0;\n",
        "}\n"
      ]
    },
    {
      "cell_type": "code",
      "source": [
        "%%file linearsearch.cpp\n",
        "\n",
        "#include <iostream>\n",
        "#include <vector>\n",
        "using namespace std;\n",
        "\n",
        "int main(){\n",
        "    // get input \n",
        "    // N=size, v=key, the rest are vector elements.\n",
        "    int N, v;\n",
        "    cin >> N >> v;\n",
        "    vector<int> a(N);\n",
        "    for (int i = 0; i < N; ++i) cin >> a[i];\n",
        "\n",
        "    //線形探索\n",
        "    bool exist = false;\n",
        "    for (int i = 0; i < N; ++i){\n",
        "        if (a[i] == v){\n",
        "            exist = true;\n",
        "        }\n",
        "    }\n",
        "\n",
        "    if (exist) cout << \"yes\" << endl;\n",
        "    else cout << \"No\" << endl;\n",
        "}"
      ],
      "metadata": {
        "colab": {
          "base_uri": "https://localhost:8080/"
        },
        "id": "qPXfVq6bmaxx",
        "outputId": "53d47303-d5f3-4239-859b-d6db2a8af4f6"
      },
      "execution_count": 15,
      "outputs": [
        {
          "output_type": "stream",
          "name": "stdout",
          "text": [
            "Overwriting linearsearch.cpp\n"
          ]
        }
      ]
    },
    {
      "cell_type": "code",
      "source": [
        "%%file pairsum.cpp\n",
        "\n",
        "#include <iostream>\n",
        "#include <vector>\n",
        "using namespace std;\n",
        "const int INF = 20000000;\n",
        "\n",
        "int main(){\n",
        "    // get input \n",
        "    // N=size, K=threshold, the rest are vector elements.\n",
        "    int N, K;\n",
        "    cin >> N >> K;\n",
        "    vector<int> a(N), b(N);\n",
        "    for (int i = 0; i < N; ++i) cin >> a[i];\n",
        "    for (int i = 0; i < N; ++i) cin >> b[i];\n",
        "\n",
        "    //線形探索\n",
        "    int min_value = INF;\n",
        "    for (int i = 0; i < N; ++i){\n",
        "        for (int j = 0; j < N; ++j){\n",
        "            if (a[i] + b[j] < K) continue;\n",
        "            if (a[i] + b[j] < min_value){\n",
        "                min_value = a[i] + b[j];\n",
        "            }\n",
        "        }\n",
        "    }\n",
        "\n",
        "    cout << \"min value = \" << min_value << endl;\n",
        "}"
      ],
      "metadata": {
        "colab": {
          "base_uri": "https://localhost:8080/"
        },
        "id": "2zFxuyWQq-Gq",
        "outputId": "08e3b37b-817c-41cd-c79b-7fa7b64e2a9c"
      },
      "execution_count": 22,
      "outputs": [
        {
          "output_type": "stream",
          "name": "stdout",
          "text": [
            "Overwriting pairsum.cpp\n"
          ]
        }
      ]
    },
    {
      "cell_type": "code",
      "source": [
        "%%file bubunwa.cpp\n",
        "\n",
        "#include <iostream>\n",
        "#include <vector>\n",
        "using namespace std;\n",
        "const int INF = 20000000;\n",
        "\n",
        "int main(){\n",
        "    // get input \n",
        "    // N=size, W=value, the rest are vector elements.\n",
        "    int N, W;\n",
        "    cin >> N >> W;\n",
        "    vector<int> a(N);\n",
        "    for (int i = 0; i < N; ++i) cin >> a[i];\n",
        "\n",
        "    bool exist = false;\n",
        "    int key= 10000;\n",
        "    for (int bit = 0; bit < (1 << N); ++bit){\n",
        "    // 全探索\n",
        "      int sum = 0;\n",
        "      for (int i = 0; i < N; i++){\n",
        "          if (bit & (1 << i))\n",
        "          {\n",
        "              sum += a[i];\n",
        "          }\n",
        "      }\n",
        "      if (sum == W) exist = true;\n",
        "    }\n",
        "    \n",
        "    if (exist) cout << \"Yes\" <<  endl;\n",
        "    else cout << \"No\" << endl;\n",
        "}"
      ],
      "metadata": {
        "colab": {
          "base_uri": "https://localhost:8080/"
        },
        "id": "mAPptZbptGEM",
        "outputId": "2c4dea42-f51c-4dc5-a964-023f5286bf14"
      },
      "execution_count": 26,
      "outputs": [
        {
          "output_type": "stream",
          "name": "stdout",
          "text": [
            "Overwriting bubunwa.cpp\n"
          ]
        }
      ]
    },
    {
      "cell_type": "code",
      "source": [
        "# コンパイルして実行\n",
        "!g++ hello.cpp; ./a.out\n",
        "!g++ forloop.cpp; echo 100 | ./a.out\n",
        "!g++ linearsearch.cpp; echo 5 7 4 3 12 7 11 | ./a.out\n",
        "!g++ pairsum.cpp; echo 3 10 8 5 4 4 1 9| ./a.out\n",
        "!g++ bubunwa.cpp; echo 5 10 2 4 1 2 7 | ./a.out"
      ],
      "metadata": {
        "colab": {
          "base_uri": "https://localhost:8080/"
        },
        "id": "a-5TBungkVlO",
        "outputId": "7160d943-9058-4fc7-f05b-b8346265d394"
      },
      "execution_count": 30,
      "outputs": [
        {
          "output_type": "stream",
          "name": "stdout",
          "text": [
            "Hello, world!\n",
            "The count is 10000\n",
            "yes\n",
            "min value = 12\n",
            "Yes\n"
          ]
        }
      ]
    },
    {
      "cell_type": "code",
      "source": [],
      "metadata": {
        "id": "9_4_C6ETwa7o"
      },
      "execution_count": null,
      "outputs": []
    }
  ]
}